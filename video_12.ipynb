{
 "cells": [
  {
   "cell_type": "markdown",
   "metadata": {},
   "source": [
    "# MATH WITH NUMPY"
   ]
  },
  {
   "cell_type": "code",
   "execution_count": 60,
   "metadata": {},
   "outputs": [],
   "source": [
    "import numpy as np\n",
    "import time"
   ]
  },
  {
   "cell_type": "markdown",
   "metadata": {},
   "source": [
    "- Starting by importing numpy and time. With time we can seed our random function to generate random arrays of numbers.\n",
    "- Below we have the syntax for seeding your generator with the current time as well as the syntax for generating a table of random values."
   ]
  },
  {
   "cell_type": "code",
   "execution_count": 61,
   "metadata": {},
   "outputs": [
    {
     "data": {
      "text/plain": [
       "array([[9, 6, 9],\n",
       "       [0, 1, 0]])"
      ]
     },
     "execution_count": 61,
     "metadata": {},
     "output_type": "execute_result"
    }
   ],
   "source": [
    "np.random.seed(seed=int(time.time()))\n",
    "A = np.random.randint(0, 10, [2, 3])\n",
    "A"
   ]
  },
  {
   "cell_type": "markdown",
   "metadata": {},
   "source": [
    "## N Dimentional Array Methods\n",
    "\n",
    "- Unsurprisingly, the sum method will give us the sum of the whole array, the rows, the columns, etc."
   ]
  },
  {
   "cell_type": "code",
   "execution_count": 62,
   "metadata": {},
   "outputs": [
    {
     "data": {
      "text/plain": [
       "25"
      ]
     },
     "execution_count": 62,
     "metadata": {},
     "output_type": "execute_result"
    }
   ],
   "source": [
    "A.sum()"
   ]
  },
  {
   "cell_type": "markdown",
   "metadata": {},
   "source": [
    "- Passing a value to the axis parameter indicates the axis we want to add. This gives us a new list of the values added by those axis."
   ]
  },
  {
   "cell_type": "code",
   "execution_count": 63,
   "metadata": {},
   "outputs": [
    {
     "data": {
      "text/plain": [
       "array([9, 7, 9])"
      ]
     },
     "execution_count": 63,
     "metadata": {},
     "output_type": "execute_result"
    }
   ],
   "source": [
    "A.sum(axis=0)"
   ]
  },
  {
   "cell_type": "code",
   "execution_count": 64,
   "metadata": {},
   "outputs": [
    {
     "data": {
      "text/plain": [
       "array([24,  1])"
      ]
     },
     "execution_count": 64,
     "metadata": {},
     "output_type": "execute_result"
    }
   ],
   "source": [
    "A.sum(axis=1)"
   ]
  },
  {
   "cell_type": "markdown",
   "metadata": {},
   "source": [
    "- Can do a \"cumulative sum\" with .cumsum which will add the first value, then the second, then the third.. etc."
   ]
  },
  {
   "cell_type": "code",
   "execution_count": 65,
   "metadata": {},
   "outputs": [
    {
     "data": {
      "text/plain": [
       "array([ 9, 15, 24, 24, 25, 25])"
      ]
     },
     "execution_count": 65,
     "metadata": {},
     "output_type": "execute_result"
    }
   ],
   "source": [
    "A.cumsum()"
   ]
  },
  {
   "cell_type": "markdown",
   "metadata": {},
   "source": [
    "- Product: every element multiplied together."
   ]
  },
  {
   "cell_type": "code",
   "execution_count": 66,
   "metadata": {},
   "outputs": [
    {
     "data": {
      "text/plain": [
       "0"
      ]
     },
     "execution_count": 66,
     "metadata": {},
     "output_type": "execute_result"
    }
   ],
   "source": [
    "A.prod()"
   ]
  },
  {
   "cell_type": "markdown",
   "metadata": {},
   "source": [
    "- Can also do an \"cumulative product\" similar to cumulative sum."
   ]
  },
  {
   "cell_type": "code",
   "execution_count": 67,
   "metadata": {},
   "outputs": [
    {
     "data": {
      "text/plain": [
       "array([  9,  54, 486,   0,   0,   0])"
      ]
     },
     "execution_count": 67,
     "metadata": {},
     "output_type": "execute_result"
    }
   ],
   "source": [
    "A.cumprod()"
   ]
  },
  {
   "cell_type": "markdown",
   "metadata": {},
   "source": [
    "- Find the minimum value in the table.\n",
    "- Can also find the minimum in an specific axis."
   ]
  },
  {
   "cell_type": "code",
   "execution_count": 68,
   "metadata": {},
   "outputs": [
    {
     "data": {
      "text/plain": [
       "0"
      ]
     },
     "execution_count": 68,
     "metadata": {},
     "output_type": "execute_result"
    }
   ],
   "source": [
    "A.min()"
   ]
  },
  {
   "cell_type": "code",
   "execution_count": 69,
   "metadata": {},
   "outputs": [
    {
     "data": {
      "text/plain": [
       "array([0, 1, 0])"
      ]
     },
     "execution_count": 69,
     "metadata": {},
     "output_type": "execute_result"
    }
   ],
   "source": [
    "A.min(axis=0)"
   ]
  },
  {
   "cell_type": "markdown",
   "metadata": {},
   "source": [
    "- If we need to find the position in the array of the minimum value we have \"argmin\".\n",
    "    - \"argmax\" exists as well."
   ]
  },
  {
   "cell_type": "code",
   "execution_count": 70,
   "metadata": {},
   "outputs": [
    {
     "data": {
      "text/plain": [
       "3"
      ]
     },
     "execution_count": 70,
     "metadata": {},
     "output_type": "execute_result"
    }
   ],
   "source": [
    "A.argmin()"
   ]
  },
  {
   "cell_type": "markdown",
   "metadata": {},
   "source": [
    "- Likewise, there are sort methods. \n",
    "    - Sort will sort the elements\n",
    "    - Argsort will sort but return the index of the sort.\n",
    "    - In other words, the first number returned will be the index of the smalles number, then the second number returned will be the index of the second smallest number, etc."
   ]
  },
  {
   "cell_type": "code",
   "execution_count": 71,
   "metadata": {},
   "outputs": [
    {
     "data": {
      "text/plain": [
       "array([[6, 9, 9],\n",
       "       [0, 0, 1]])"
      ]
     },
     "execution_count": 71,
     "metadata": {},
     "output_type": "execute_result"
    }
   ],
   "source": [
    "A.sort()\n",
    "A"
   ]
  },
  {
   "cell_type": "code",
   "execution_count": 72,
   "metadata": {},
   "outputs": [
    {
     "data": {
      "text/plain": [
       "array([[0, 1, 2],\n",
       "       [0, 1, 2]])"
      ]
     },
     "execution_count": 72,
     "metadata": {},
     "output_type": "execute_result"
    }
   ],
   "source": [
    "A.argsort(axis=1)"
   ]
  },
  {
   "cell_type": "markdown",
   "metadata": {},
   "source": [
    "## Methodes for ND Arrays"
   ]
  },
  {
   "cell_type": "markdown",
   "metadata": {},
   "source": [
    "- Here we are returning the minimum arguments' index along the given axis."
   ]
  },
  {
   "cell_type": "code",
   "execution_count": 73,
   "metadata": {},
   "outputs": [
    {
     "data": {
      "text/plain": [
       "array([1, 1, 1])"
      ]
     },
     "execution_count": 73,
     "metadata": {},
     "output_type": "execute_result"
    }
   ],
   "source": [
    "A.argmin(axis=0)"
   ]
  },
  {
   "cell_type": "markdown",
   "metadata": {},
   "source": [
    "- To calculate the exponencial f(x) = e^x {{https://en.wikipedia.org/wiki/Exponential_function}}\n",
    "    - Run the exp() method, but this method does not belong to A, it belongs to numpy, so the syntax is a little different."
   ]
  },
  {
   "cell_type": "code",
   "execution_count": 74,
   "metadata": {},
   "outputs": [
    {
     "data": {
      "text/plain": [
       "array([[4.03428793e+02, 8.10308393e+03, 8.10308393e+03],\n",
       "       [1.00000000e+00, 1.00000000e+00, 2.71828183e+00]])"
      ]
     },
     "execution_count": 74,
     "metadata": {},
     "output_type": "execute_result"
    }
   ],
   "source": [
    "np.exp(A)"
   ]
  },
  {
   "cell_type": "markdown",
   "metadata": {},
   "source": [
    "- Similarly, you can take the log of an array with the same syntax.\n",
    "- Note: If there is a 0 in your set, you'll get an error with log because that's imposible, but the rest of the array will still calculate."
   ]
  },
  {
   "cell_type": "code",
   "execution_count": 75,
   "metadata": {},
   "outputs": [
    {
     "name": "stderr",
     "output_type": "stream",
     "text": [
      "/tmp/ipykernel_4696/2475394391.py:1: RuntimeWarning: divide by zero encountered in log\n",
      "  np.log(A)\n"
     ]
    },
    {
     "data": {
      "text/plain": [
       "array([[1.79175947, 2.19722458, 2.19722458],\n",
       "       [      -inf,       -inf, 0.        ]])"
      ]
     },
     "execution_count": 75,
     "metadata": {},
     "output_type": "execute_result"
    }
   ],
   "source": [
    "np.log(A)"
   ]
  },
  {
   "cell_type": "markdown",
   "metadata": {},
   "source": [
    "- Similarly, you can do this for any other math functions as well."
   ]
  },
  {
   "cell_type": "code",
   "execution_count": 76,
   "metadata": {},
   "outputs": [
    {
     "data": {
      "text/plain": [
       "array([[-0.2794155 ,  0.41211849,  0.41211849],\n",
       "       [ 0.        ,  0.        ,  0.84147098]])"
      ]
     },
     "execution_count": 76,
     "metadata": {},
     "output_type": "execute_result"
    }
   ],
   "source": [
    "np.sin(A)"
   ]
  },
  {
   "cell_type": "markdown",
   "metadata": {},
   "source": [
    "## Statistics"
   ]
  },
  {
   "cell_type": "markdown",
   "metadata": {},
   "source": [
    "- Some functions we have for tables related to statistics inlude:\n",
    "    - A.min(axis), A.argmin(axis)\n",
    "    - A.max(axis), A.argmax(axis)\n",
    "    - A.mean(axis)\n",
    "    - A.var(axis)\n",
    "    - A.stdaxis)"
   ]
  },
  {
   "cell_type": "code",
   "execution_count": 77,
   "metadata": {},
   "outputs": [
    {
     "data": {
      "text/plain": [
       "array([[6, 9, 9],\n",
       "       [0, 0, 1]])"
      ]
     },
     "execution_count": 77,
     "metadata": {},
     "output_type": "execute_result"
    }
   ],
   "source": [
    "A"
   ]
  },
  {
   "cell_type": "code",
   "execution_count": 78,
   "metadata": {},
   "outputs": [
    {
     "data": {
      "text/plain": [
       "0"
      ]
     },
     "execution_count": 78,
     "metadata": {},
     "output_type": "execute_result"
    }
   ],
   "source": [
    "A.min()"
   ]
  },
  {
   "cell_type": "code",
   "execution_count": 79,
   "metadata": {},
   "outputs": [
    {
     "data": {
      "text/plain": [
       "1"
      ]
     },
     "execution_count": 79,
     "metadata": {},
     "output_type": "execute_result"
    }
   ],
   "source": [
    "A.argmax()      # This says, \"Which index is the largest value?\""
   ]
  },
  {
   "cell_type": "code",
   "execution_count": 80,
   "metadata": {},
   "outputs": [
    {
     "data": {
      "text/plain": [
       "array([8.        , 0.33333333])"
      ]
     },
     "execution_count": 80,
     "metadata": {},
     "output_type": "execute_result"
    }
   ],
   "source": [
    "A.mean(axis=1)"
   ]
  },
  {
   "cell_type": "code",
   "execution_count": 81,
   "metadata": {},
   "outputs": [
    {
     "data": {
      "text/plain": [
       "array([2.        , 0.22222222])"
      ]
     },
     "execution_count": 81,
     "metadata": {},
     "output_type": "execute_result"
    }
   ],
   "source": [
    "A.var(axis=1)       # This is for the variance {{https://en.wikipedia.org/wiki/Variance}}"
   ]
  },
  {
   "cell_type": "code",
   "execution_count": 82,
   "metadata": {},
   "outputs": [
    {
     "data": {
      "text/plain": [
       "3.975620147292188"
      ]
     },
     "execution_count": 82,
     "metadata": {},
     "output_type": "execute_result"
    }
   ],
   "source": [
    "A.std()             # This finds the standard deviation of a set {{https://en.wikipedia.org/wiki/Standard_deviation}}"
   ]
  },
  {
   "cell_type": "markdown",
   "metadata": {},
   "source": [
    "- Of note is the function corrcoef - \"Correlation Coeficient\"\n",
    "    - More can be found here: {{https://en.wikipedia.org/wiki/Pearson_correlation_coefficient}}\n",
    "- This is useful for machine leanring because it helps us find the correlation between different rows and columns."
   ]
  },
  {
   "cell_type": "code",
   "execution_count": 83,
   "metadata": {},
   "outputs": [
    {
     "data": {
      "text/plain": [
       "array([[1. , 0.5],\n",
       "       [0.5, 1. ]])"
      ]
     },
     "execution_count": 83,
     "metadata": {},
     "output_type": "execute_result"
    }
   ],
   "source": [
    "np.corrcoef(A)"
   ]
  },
  {
   "cell_type": "markdown",
   "metadata": {},
   "source": [
    "- What do we do with this?\n",
    "- This method generates a new table of correlation coeficients that tell us the correlation between different lines.\n",
    "- Note that there are 1 1's and the othe numbers are the same as well.\n",
    "np.corrcoef(A) =    [[  ,   L1,   L2]\n",
    "                     [L1,    1, L1L2]\n",
    "                     [L2, L2L1,    1]]\n",
    "    - Some resources to understand this:\n",
    "        {{https://www.youtube.com/watch?v=ugd4k3dC_8Y}}\n",
    "        {{https://youtu.be/RwFiNlL4Q8g?list=PLO_fdPEVlfKqMDNmCFzQISI2H_nJcEDJq&t=513}}\n",
    "        \n",
    "- Of note, we can also only print the specific value of the array we want with [0, 1] for example."
   ]
  },
  {
   "cell_type": "code",
   "execution_count": 84,
   "metadata": {},
   "outputs": [
    {
     "data": {
      "text/plain": [
       "0.5"
      ]
     },
     "execution_count": 84,
     "metadata": {},
     "output_type": "execute_result"
    }
   ],
   "source": [
    "np.corrcoef(A)[0, 1]"
   ]
  },
  {
   "cell_type": "markdown",
   "metadata": {},
   "source": [
    "- Another very useful method we use in machine learning is np.unique which helps us find data that is present in an array and how many times that object appears in the data.\n",
    "    - This returns 2 arrays.\n",
    "    - The first is an array (sorted) with only unique elements appearing once. We assign this one to the variable \"values\".\n",
    "    - The second is an array that indicates how many times each element shows up in the data. We assign this one to the variable \"counts\"."
   ]
  },
  {
   "cell_type": "code",
   "execution_count": 85,
   "metadata": {},
   "outputs": [
    {
     "name": "stdout",
     "output_type": "stream",
     "text": [
      "values: [0 1 6 9]\n",
      "counts: [2 1 1 2]\n"
     ]
    }
   ],
   "source": [
    "values, counts = np.unique(A, return_counts=True)\n",
    "print(f\"values: {values}\")\n",
    "print(f\"counts: {counts}\")"
   ]
  },
  {
   "cell_type": "markdown",
   "metadata": {},
   "source": [
    "- As we saw earlier, we can use argsort on this table go get the index of each value in sorted order.\n",
    "- This allows us to find the indexes of the values in counts from largest to smallest, effectively sorting them."
   ]
  },
  {
   "cell_type": "code",
   "execution_count": 86,
   "metadata": {},
   "outputs": [
    {
     "data": {
      "text/plain": [
       "array([1, 2, 0, 3])"
      ]
     },
     "execution_count": 86,
     "metadata": {},
     "output_type": "execute_result"
    }
   ],
   "source": [
    "counts.argsort()"
   ]
  },
  {
   "cell_type": "code",
   "execution_count": 89,
   "metadata": {},
   "outputs": [
    {
     "name": "stdout",
     "output_type": "stream",
     "text": [
      "A is: [[6 9 9]\n",
      " [0 0 1]]\n",
      "values is: [0 1 6 9]\n"
     ]
    },
    {
     "data": {
      "text/plain": [
       "array([1, 6, 0, 9])"
      ]
     },
     "execution_count": 89,
     "metadata": {},
     "output_type": "execute_result"
    }
   ],
   "source": [
    "print(f\"A is: {A}\")\n",
    "print(f\"values is: {values}\")\n",
    "values[counts.argsort()]"
   ]
  },
  {
   "cell_type": "markdown",
   "metadata": {},
   "source": [
    "- Here we can take this concept and display a sorted list of the values in these arrays like this."
   ]
  },
  {
   "cell_type": "code",
   "execution_count": 90,
   "metadata": {},
   "outputs": [
    {
     "name": "stdout",
     "output_type": "stream",
     "text": [
      "value 1 appears 1 times.\n",
      "value 6 appears 1 times.\n",
      "value 0 appears 2 times.\n",
      "value 9 appears 2 times.\n"
     ]
    }
   ],
   "source": [
    "for i, j in zip(values[counts.argsort()], counts[counts.argsort()]):\n",
    "    print(f'value {i} appears {j} times.')"
   ]
  },
  {
   "cell_type": "markdown",
   "metadata": {},
   "source": [
    "## NAN Corrections\n",
    "\n",
    "- Sometimes we get data from the real world that is missing data or or has pieces of data that are not neatly configured as we need them.\n",
    "- These can be seen as NAN values or \"Not a number\".\n",
    "- When we have these in our data set, we can delete them or find another way to manage them in the data OR, we can use some specific methods in numpy that are built to work around NaN values."
   ]
  },
  {
   "cell_type": "code",
   "execution_count": 96,
   "metadata": {},
   "outputs": [
    {
     "data": {
      "text/plain": [
       "array([[-1.55610147,  0.82374388, -0.02243518, -0.23168086,  0.37064647],\n",
       "       [ 1.6897752 ,  0.3013686 ,  1.84192447, -1.2799044 ,  1.72295858],\n",
       "       [ 1.02243941,  0.15226849,         nan,  0.12391386,  0.38570489],\n",
       "       [ 0.21071103, -0.21497957,  0.78794179,  0.85763371, -1.04849452],\n",
       "       [ 0.52961718,  0.0970133 , -1.10659931,         nan,  1.02607827]])"
      ]
     },
     "execution_count": 96,
     "metadata": {},
     "output_type": "execute_result"
    }
   ],
   "source": [
    "np.random.seed(seed=int(time.time()))\n",
    "A = np.random.randn(5, 5)\n",
    "A[4, 3] = np.nan\n",
    "A[2, 2] = np.nan\n",
    "A"
   ]
  },
  {
   "cell_type": "code",
   "execution_count": 100,
   "metadata": {},
   "outputs": [
    {
     "name": "stdout",
     "output_type": "stream",
     "text": [
      "NaN mean: 0.2818932101917756\n",
      "NaN var: 0.8154707387829158\n",
      "NaN std: 0.9030341847255373\n"
     ]
    }
   ],
   "source": [
    "print(f\"NaN mean: {np.nanmean(A)}\")\n",
    "print(f\"NaN var: {np.nanvar(A)}\")\n",
    "print(f\"NaN std: {np.nanstd(A)}\")"
   ]
  },
  {
   "cell_type": "markdown",
   "metadata": {},
   "source": [
    "- Sometimes we'll want to know how many times a NaN is in our data.\n",
    "- We can count them like this.\n",
    "    - We can use isnan() to create a boolean mask.\n",
    "    - With booleans we know that False is 0 and True is 1, so we can just take the sum of this mask and find the total number of Trues therein."
   ]
  },
  {
   "cell_type": "code",
   "execution_count": 102,
   "metadata": {},
   "outputs": [
    {
     "data": {
      "text/plain": [
       "2"
      ]
     },
     "execution_count": 102,
     "metadata": {},
     "output_type": "execute_result"
    }
   ],
   "source": [
    "np.isnan(A).sum()"
   ]
  },
  {
   "cell_type": "markdown",
   "metadata": {},
   "source": [
    "- We can also divide by the total size like shown below to find the percentage of our data that is NaN."
   ]
  },
  {
   "cell_type": "code",
   "execution_count": 104,
   "metadata": {},
   "outputs": [
    {
     "data": {
      "text/plain": [
       "0.08"
      ]
     },
     "execution_count": 104,
     "metadata": {},
     "output_type": "execute_result"
    }
   ],
   "source": [
    "np.isnan(A).sum()/A.size"
   ]
  },
  {
   "cell_type": "markdown",
   "metadata": {},
   "source": [
    "- Now that we have a mask, we can use that to replace all the NaN values with a 0 if we want.\n",
    "- We do this by using out mask and re-inserting it into A with the value of 0."
   ]
  },
  {
   "cell_type": "code",
   "execution_count": 106,
   "metadata": {},
   "outputs": [
    {
     "data": {
      "text/plain": [
       "array([[-1.55610147,  0.82374388, -0.02243518, -0.23168086,  0.37064647],\n",
       "       [ 1.6897752 ,  0.3013686 ,  1.84192447, -1.2799044 ,  1.72295858],\n",
       "       [ 1.02243941,  0.15226849,  0.        ,  0.12391386,  0.38570489],\n",
       "       [ 0.21071103, -0.21497957,  0.78794179,  0.85763371, -1.04849452],\n",
       "       [ 0.52961718,  0.0970133 , -1.10659931,  0.        ,  1.02607827]])"
      ]
     },
     "execution_count": 106,
     "metadata": {},
     "output_type": "execute_result"
    }
   ],
   "source": [
    "A[np.isnan(A)] = 0\n",
    "A"
   ]
  },
  {
   "cell_type": "markdown",
   "metadata": {},
   "source": [
    "## Linear Algebra\n",
    "\n",
    "- Instructor indicated that this part of the video is for people who know a little bit about linear algebra and want to learn how to use numpy for linear algebra, but this is not necessary.\n",
    "- I'm going to skip this section for the notes and leave a time link in case I want to come back in the future.\n",
    "    - Link to tutorial: {{https://youtu.be/RwFiNlL4Q8g?list=PLO_fdPEVlfKqMDNmCFzQISI2H_nJcEDJq&t=1174}}\n",
    "    - Link to NumPy library on Linear Algebra: {{https://docs.scipy.org/doc/numpy-1.13.0/reference/routines.linalg.html}}"
   ]
  },
  {
   "cell_type": "code",
   "execution_count": null,
   "metadata": {},
   "outputs": [],
   "source": []
  }
 ],
 "metadata": {
  "kernelspec": {
   "display_name": "Python 3.10.4 ('env310')",
   "language": "python",
   "name": "python3"
  },
  "language_info": {
   "codemirror_mode": {
    "name": "ipython",
    "version": 3
   },
   "file_extension": ".py",
   "mimetype": "text/x-python",
   "name": "python",
   "nbconvert_exporter": "python",
   "pygments_lexer": "ipython3",
   "version": "3.10.4"
  },
  "orig_nbformat": 4,
  "vscode": {
   "interpreter": {
    "hash": "0e9bbc227910a1aa3069b40d32c46f637c8deb484eb6ca5f19bc7e6ec7812a7d"
   }
  }
 },
 "nbformat": 4,
 "nbformat_minor": 2
}
