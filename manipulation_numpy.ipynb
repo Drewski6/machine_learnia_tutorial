{
 "cells": [
  {
   "cell_type": "markdown",
   "metadata": {},
   "source": [
    "- Once you have your data, how do you manipulate your data?"
   ]
  },
  {
   "cell_type": "code",
   "execution_count": null,
   "metadata": {},
   "outputs": [],
   "source": []
  }
 ],
 "metadata": {
  "kernelspec": {
   "display_name": "Python 3.10.4 ('env310')",
   "language": "python",
   "name": "python3"
  },
  "language_info": {
   "name": "python",
   "version": "3.10.4"
  },
  "orig_nbformat": 4,
  "vscode": {
   "interpreter": {
    "hash": "0e9bbc227910a1aa3069b40d32c46f637c8deb484eb6ca5f19bc7e6ec7812a7d"
   }
  }
 },
 "nbformat": 4,
 "nbformat_minor": 2
}
