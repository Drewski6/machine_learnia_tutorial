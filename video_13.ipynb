{
 "cells": [
  {
   "cell_type": "markdown",
   "metadata": {},
   "source": [
    "# NumPy Broadcasting\n",
    "\n",
    "- Broadcasting referes to when we take an array of (n, n) and do some math to it across an entire row or column.\n",
    "- This method is \"dangerous\" however becuase there are certain circumstances that lead to it being slower in C than in python.\n",
    "    - Further reading: {{https://numpy.org/doc/stable/user/basics.broadcasting.html}}\n",
    "- Matrix arithmetic works well for when the arrays are of the same dimension, however, when we use arrays of different sizes, there can be issues.\n",
    "- To simplify this, here are some basic rules to use to do matrix arrithmetic. \n",
    "- Rules:\n",
    "    - When we look at an array, we have first the columns then the rows (columns, rows).\n",
    "    - The rules can be demonstrated here:\n",
    "        - Given an array A has dimensions of (2, 3), in order to perform math on this array, array B must satisfy one of the following:\n",
    "            - B has dimensions (2, 3)\n",
    "                - Both columns and rows are the same.\n",
    "            - B has dimentions (2, 1)\n",
    "                - Columns is the same, and rows is 1.\n",
    "            - B has dimentions (1, 2)\n",
    "                - Columns is 1, and rows is the same.\n",
    "            - B has dimention (1, 1)\n",
    "                - This means B is a number and is considered a scalar.\n",
    "            - Using an array of dimentions (2, 2) will not work."
   ]
  },
  {
   "cell_type": "code",
   "execution_count": 39,
   "metadata": {},
   "outputs": [],
   "source": [
    "import numpy as np\n",
    "import time\n",
    "np.random.seed(seed=int(time.time()))\n",
    "A = np.random.randint(0, 10, [2, 3])"
   ]
  },
  {
   "cell_type": "code",
   "execution_count": 40,
   "metadata": {},
   "outputs": [
    {
     "name": "stdout",
     "output_type": "stream",
     "text": [
      "A:\n",
      "[[6 0 4]\n",
      " [6 9 0]]\n",
      "B:\n",
      "[[1. 1. 1.]\n",
      " [1. 1. 1.]]\n"
     ]
    },
    {
     "data": {
      "text/plain": [
       "array([[ 7.,  1.,  5.],\n",
       "       [ 7., 10.,  1.]])"
      ]
     },
     "execution_count": 40,
     "metadata": {},
     "output_type": "execute_result"
    }
   ],
   "source": [
    "B = np.ones((2, 3))\n",
    "print(f\"A:\\n{A}\")\n",
    "print(f\"B:\\n{B}\")\n",
    "A + B                   # Works with 2, 3"
   ]
  },
  {
   "cell_type": "code",
   "execution_count": 41,
   "metadata": {},
   "outputs": [
    {
     "name": "stdout",
     "output_type": "stream",
     "text": [
      "A:\n",
      "[[6 0 4]\n",
      " [6 9 0]]\n",
      "B:\n",
      "[[1.]\n",
      " [1.]]\n"
     ]
    },
    {
     "data": {
      "text/plain": [
       "array([[ 7.,  1.,  5.],\n",
       "       [ 7., 10.,  1.]])"
      ]
     },
     "execution_count": 41,
     "metadata": {},
     "output_type": "execute_result"
    }
   ],
   "source": [
    "B = np.ones((2, 1))     # Change to 2, 1. Works.\n",
    "print(f\"A:\\n{A}\")\n",
    "print(f\"B:\\n{B}\")\n",
    "A + B"
   ]
  },
  {
   "cell_type": "code",
   "execution_count": 42,
   "metadata": {},
   "outputs": [
    {
     "name": "stdout",
     "output_type": "stream",
     "text": [
      "A:\n",
      "[[6 0 4]\n",
      " [6 9 0]]\n",
      "B:\n",
      "[[1. 1. 1.]]\n"
     ]
    },
    {
     "data": {
      "text/plain": [
       "array([[ 7.,  1.,  5.],\n",
       "       [ 7., 10.,  1.]])"
      ]
     },
     "execution_count": 42,
     "metadata": {},
     "output_type": "execute_result"
    }
   ],
   "source": [
    "B = np.ones((1, 3))     # Change to 1, 3. Works.\n",
    "print(f\"A:\\n{A}\")\n",
    "print(f\"B:\\n{B}\")\n",
    "A + B"
   ]
  },
  {
   "cell_type": "code",
   "execution_count": 43,
   "metadata": {},
   "outputs": [
    {
     "name": "stdout",
     "output_type": "stream",
     "text": [
      "A:\n",
      "[[6 0 4]\n",
      " [6 9 0]]\n",
      "B:\n",
      "2\n"
     ]
    },
    {
     "data": {
      "text/plain": [
       "array([[12,  0,  8],\n",
       "       [12, 18,  0]])"
      ]
     },
     "execution_count": 43,
     "metadata": {},
     "output_type": "execute_result"
    }
   ],
   "source": [
    "B = 2                   # Works with scalars.\n",
    "print(f\"A:\\n{A}\")\n",
    "print(f\"B:\\n{B}\")\n",
    "A * 2"
   ]
  },
  {
   "cell_type": "code",
   "execution_count": 44,
   "metadata": {},
   "outputs": [
    {
     "name": "stdout",
     "output_type": "stream",
     "text": [
      "A:\n",
      "[[6 0 4]\n",
      " [6 9 0]]\n",
      "B:\n",
      "[[1. 1.]\n",
      " [1. 1.]]\n"
     ]
    },
    {
     "ename": "ValueError",
     "evalue": "operands could not be broadcast together with shapes (2,3) (2,2) ",
     "output_type": "error",
     "traceback": [
      "\u001b[0;31m---------------------------------------------------------------------------\u001b[0m",
      "\u001b[0;31mValueError\u001b[0m                                Traceback (most recent call last)",
      "Cell \u001b[0;32mIn [44], line 4\u001b[0m\n\u001b[1;32m      2\u001b[0m \u001b[38;5;28mprint\u001b[39m(\u001b[38;5;124mf\u001b[39m\u001b[38;5;124m\"\u001b[39m\u001b[38;5;124mA:\u001b[39m\u001b[38;5;130;01m\\n\u001b[39;00m\u001b[38;5;132;01m{\u001b[39;00mA\u001b[38;5;132;01m}\u001b[39;00m\u001b[38;5;124m\"\u001b[39m)\n\u001b[1;32m      3\u001b[0m \u001b[38;5;28mprint\u001b[39m(\u001b[38;5;124mf\u001b[39m\u001b[38;5;124m\"\u001b[39m\u001b[38;5;124mB:\u001b[39m\u001b[38;5;130;01m\\n\u001b[39;00m\u001b[38;5;132;01m{\u001b[39;00mB\u001b[38;5;132;01m}\u001b[39;00m\u001b[38;5;124m\"\u001b[39m)\n\u001b[0;32m----> 4\u001b[0m \u001b[43mA\u001b[49m\u001b[43m \u001b[49m\u001b[38;5;241;43m+\u001b[39;49m\u001b[43m \u001b[49m\u001b[43mB\u001b[49m\n",
      "\u001b[0;31mValueError\u001b[0m: operands could not be broadcast together with shapes (2,3) (2,2) "
     ]
    }
   ],
   "source": [
    "B = np.ones((2, 2))     # Change to 2, 2. Does not work.\n",
    "print(f\"A:\\n{A}\")\n",
    "print(f\"B:\\n{B}\")\n",
    "A + B"
   ]
  },
  {
   "cell_type": "markdown",
   "metadata": {},
   "source": [
    "- Moving further, it can be a little surprising then, that adding two matrixes with a single row or column causes a resulting array of larger size in both dimensions.\n",
    "- Example: (4, 1) + (1, 4) = (4, 4)"
   ]
  },
  {
   "cell_type": "code",
   "execution_count": 60,
   "metadata": {},
   "outputs": [
    {
     "name": "stdout",
     "output_type": "stream",
     "text": [
      "A:\n",
      "[[1.]\n",
      " [1.]\n",
      " [1.]\n",
      " [1.]]\n",
      "B:\n",
      "[[1. 1. 1. 1.]]\n"
     ]
    },
    {
     "data": {
      "text/plain": [
       "array([[2., 2., 2., 2.],\n",
       "       [2., 2., 2., 2.],\n",
       "       [2., 2., 2., 2.],\n",
       "       [2., 2., 2., 2.]])"
      ]
     },
     "execution_count": 60,
     "metadata": {},
     "output_type": "execute_result"
    }
   ],
   "source": [
    "A = np.ones((4, 1))\n",
    "B = np.ones((1, 4))\n",
    "print(f\"A:\\n{A}\")\n",
    "print(f\"B:\\n{B}\")\n",
    "A + B"
   ]
  },
  {
   "cell_type": "markdown",
   "metadata": {},
   "source": [
    "- In addition, if we use an incomplete array of 1's we'll get the same result.\n",
    "- When we use a dimension like (X, ) where there is no last dimension, the X is considered the last dimension in the table.\n",
    "- WARNING: This is where broadcasting can be dangerous.\n",
    "    - If you have some arrays that end in \", \" you can accidentally broadcast some data with this by accident so you have to be careful with your data.\n",
    "    - For this reason, you should always verify your dimensions and use reshape() when needed.\n",
    "    - For example, if you have a data set that is (100, 1) and another that is (100, ) when you try to add these, you'll get a resulting data set that is (100, 100) which would obviously mess things up a little."
   ]
  },
  {
   "cell_type": "code",
   "execution_count": 59,
   "metadata": {},
   "outputs": [
    {
     "name": "stdout",
     "output_type": "stream",
     "text": [
      "A:\n",
      "[[3]\n",
      " [5]\n",
      " [9]\n",
      " [7]]\n",
      "\n",
      "B:\n",
      "[1. 1. 1. 1.]\n",
      "\n",
      "A + B:\n",
      "[[ 4.  4.  4.  4.]\n",
      " [ 6.  6.  6.  6.]\n",
      " [10. 10. 10. 10.]\n",
      " [ 8.  8.  8.  8.]]\n",
      "\n"
     ]
    }
   ],
   "source": [
    "A = np.random.randint(0, 10, [4, 1])\n",
    "B = np.ones((4, ))\n",
    "print(f\"A:\\n{A}\\n\")\n",
    "print(f\"B:\\n{B}\\n\")\n",
    "print(f\"A + B:\\n{A + B}\\n\")"
   ]
  },
  {
   "cell_type": "markdown",
   "metadata": {},
   "source": [
    "- To fix this we can use reshape and our data to give it a new dimension."
   ]
  },
  {
   "cell_type": "code",
   "execution_count": 58,
   "metadata": {},
   "outputs": [
    {
     "name": "stdout",
     "output_type": "stream",
     "text": [
      "A:\n",
      "[[7]\n",
      " [0]\n",
      " [7]\n",
      " [8]]\n",
      "\n",
      "B:\n",
      "[[1.]\n",
      " [1.]\n",
      " [1.]\n",
      " [1.]]\n",
      "\n",
      "A + B:\n",
      "[[8.]\n",
      " [1.]\n",
      " [8.]\n",
      " [9.]]\n",
      "\n"
     ]
    }
   ],
   "source": [
    "A = np.random.randint(0, 10, [4, 1])\n",
    "B = np.ones((4, ))\n",
    "B = B.reshape(B.shape[0], 1)\n",
    "print(f\"A:\\n{A}\\n\")\n",
    "print(f\"B:\\n{B}\\n\")\n",
    "print(f\"A + B:\\n{A + B}\\n\")"
   ]
  },
  {
   "cell_type": "markdown",
   "metadata": {},
   "source": [
    "- Summary:\n",
    "    - Here is a quick summary of the information about NumPy.\n",
    "    - {{local:python_numpy_broadcasting.png}}"
   ]
  }
 ],
 "metadata": {
  "kernelspec": {
   "display_name": "Python 3.10.4 ('env310')",
   "language": "python",
   "name": "python3"
  },
  "language_info": {
   "codemirror_mode": {
    "name": "ipython",
    "version": 3
   },
   "file_extension": ".py",
   "mimetype": "text/x-python",
   "name": "python",
   "nbconvert_exporter": "python",
   "pygments_lexer": "ipython3",
   "version": "3.10.4"
  },
  "orig_nbformat": 4,
  "vscode": {
   "interpreter": {
    "hash": "0e9bbc227910a1aa3069b40d32c46f637c8deb484eb6ca5f19bc7e6ec7812a7d"
   }
  }
 },
 "nbformat": 4,
 "nbformat_minor": 2
}
