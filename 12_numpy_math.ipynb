{
 "cells": [
  {
   "cell_type": "markdown",
   "metadata": {},
   "source": [
    "# NumPy - Math"
   ]
  },
  {
   "cell_type": "code",
   "execution_count": 2,
   "metadata": {},
   "outputs": [],
   "source": [
    "import numpy as np\n",
    "import time"
   ]
  },
  {
   "cell_type": "markdown",
   "metadata": {},
   "source": [
    "- Starting by importing numpy and time. With time we can seed our random function to generate random arrays of numbers.\n",
    "- Below we have the syntax for seeding your generator with the current time as well as the syntax for generating a table of random values."
   ]
  },
  {
   "cell_type": "code",
   "execution_count": 3,
   "metadata": {},
   "outputs": [
    {
     "data": {
      "text/plain": [
       "array([[5, 2, 3],\n",
       "       [6, 6, 4]])"
      ]
     },
     "execution_count": 3,
     "metadata": {},
     "output_type": "execute_result"
    }
   ],
   "source": [
    "np.random.seed(seed=int(time.time()))\n",
    "A = np.random.randint(0, 10, [2, 3])\n",
    "A"
   ]
  },
  {
   "cell_type": "markdown",
   "metadata": {},
   "source": [
    "## N Dimentional Array Methods\n",
    "\n",
    "- Unsurprisingly, the sum method will give us the sum of the whole array, the rows, the columns, etc."
   ]
  },
  {
   "cell_type": "code",
   "execution_count": 4,
   "metadata": {},
   "outputs": [
    {
     "data": {
      "text/plain": [
       "26"
      ]
     },
     "execution_count": 4,
     "metadata": {},
     "output_type": "execute_result"
    }
   ],
   "source": [
    "A.sum()"
   ]
  },
  {
   "cell_type": "markdown",
   "metadata": {},
   "source": [
    "- Passing a value to the axis parameter indicates the axis we want to add. This gives us a new list of the values added by those axis."
   ]
  },
  {
   "cell_type": "code",
   "execution_count": 5,
   "metadata": {},
   "outputs": [
    {
     "data": {
      "text/plain": [
       "array([11,  8,  7])"
      ]
     },
     "execution_count": 5,
     "metadata": {},
     "output_type": "execute_result"
    }
   ],
   "source": [
    "A.sum(axis=0)"
   ]
  },
  {
   "cell_type": "code",
   "execution_count": 6,
   "metadata": {},
   "outputs": [
    {
     "data": {
      "text/plain": [
       "array([10, 16])"
      ]
     },
     "execution_count": 6,
     "metadata": {},
     "output_type": "execute_result"
    }
   ],
   "source": [
    "A.sum(axis=1)"
   ]
  },
  {
   "cell_type": "markdown",
   "metadata": {},
   "source": [
    "- Can do a \"cumulative sum\" with .cumsum which will add the first value, then the second, then the third.. etc."
   ]
  },
  {
   "cell_type": "code",
   "execution_count": 7,
   "metadata": {},
   "outputs": [
    {
     "data": {
      "text/plain": [
       "array([ 5,  7, 10, 16, 22, 26])"
      ]
     },
     "execution_count": 7,
     "metadata": {},
     "output_type": "execute_result"
    }
   ],
   "source": [
    "A.cumsum()"
   ]
  },
  {
   "cell_type": "markdown",
   "metadata": {},
   "source": [
    "- Product: every element multiplied together."
   ]
  },
  {
   "cell_type": "code",
   "execution_count": 8,
   "metadata": {},
   "outputs": [
    {
     "data": {
      "text/plain": [
       "4320"
      ]
     },
     "execution_count": 8,
     "metadata": {},
     "output_type": "execute_result"
    }
   ],
   "source": [
    "A.prod()"
   ]
  },
  {
   "cell_type": "markdown",
   "metadata": {},
   "source": [
    "- Can also do an \"cumulative product\" similar to cumulative sum."
   ]
  },
  {
   "cell_type": "code",
   "execution_count": 9,
   "metadata": {},
   "outputs": [
    {
     "data": {
      "text/plain": [
       "array([   5,   10,   30,  180, 1080, 4320])"
      ]
     },
     "execution_count": 9,
     "metadata": {},
     "output_type": "execute_result"
    }
   ],
   "source": [
    "A.cumprod()"
   ]
  },
  {
   "cell_type": "markdown",
   "metadata": {},
   "source": [
    "- Find the minimum value in the table.\n",
    "- Can also find the minimum in an specific axis."
   ]
  },
  {
   "cell_type": "code",
   "execution_count": 10,
   "metadata": {},
   "outputs": [
    {
     "data": {
      "text/plain": [
       "2"
      ]
     },
     "execution_count": 10,
     "metadata": {},
     "output_type": "execute_result"
    }
   ],
   "source": [
    "A.min()"
   ]
  },
  {
   "cell_type": "code",
   "execution_count": 11,
   "metadata": {},
   "outputs": [
    {
     "data": {
      "text/plain": [
       "array([5, 2, 3])"
      ]
     },
     "execution_count": 11,
     "metadata": {},
     "output_type": "execute_result"
    }
   ],
   "source": [
    "A.min(axis=0)"
   ]
  },
  {
   "cell_type": "markdown",
   "metadata": {},
   "source": [
    "- If we need to find the position in the array of the minimum value we have \"argmin\".\n",
    "    - \"argmax\" exists as well."
   ]
  },
  {
   "cell_type": "code",
   "execution_count": 12,
   "metadata": {},
   "outputs": [
    {
     "data": {
      "text/plain": [
       "1"
      ]
     },
     "execution_count": 12,
     "metadata": {},
     "output_type": "execute_result"
    }
   ],
   "source": [
    "A.argmin()"
   ]
  },
  {
   "cell_type": "markdown",
   "metadata": {},
   "source": [
    "- Likewise, there are sort methods. \n",
    "    - Sort will sort the elements\n",
    "    - Argsort will sort but return the index of the sort.\n",
    "    - In other words, the first number returned will be the index of the smalles number, then the second number returned will be the index of the second smallest number, etc."
   ]
  },
  {
   "cell_type": "code",
   "execution_count": 13,
   "metadata": {},
   "outputs": [
    {
     "data": {
      "text/plain": [
       "array([[2, 3, 5],\n",
       "       [4, 6, 6]])"
      ]
     },
     "execution_count": 13,
     "metadata": {},
     "output_type": "execute_result"
    }
   ],
   "source": [
    "A.sort()\n",
    "A"
   ]
  },
  {
   "cell_type": "code",
   "execution_count": 14,
   "metadata": {},
   "outputs": [
    {
     "data": {
      "text/plain": [
       "array([[0, 1, 2],\n",
       "       [0, 1, 2]])"
      ]
     },
     "execution_count": 14,
     "metadata": {},
     "output_type": "execute_result"
    }
   ],
   "source": [
    "A.argsort(axis=1)"
   ]
  },
  {
   "cell_type": "markdown",
   "metadata": {},
   "source": [
    "## Methodes for ND Arrays"
   ]
  },
  {
   "cell_type": "markdown",
   "metadata": {},
   "source": [
    "- Here we are returning the minimum arguments' index along the given axis."
   ]
  },
  {
   "cell_type": "code",
   "execution_count": 15,
   "metadata": {},
   "outputs": [
    {
     "data": {
      "text/plain": [
       "array([0, 0, 0])"
      ]
     },
     "execution_count": 15,
     "metadata": {},
     "output_type": "execute_result"
    }
   ],
   "source": [
    "A.argmin(axis=0)"
   ]
  },
  {
   "cell_type": "markdown",
   "metadata": {},
   "source": [
    "- To calculate the exponencial f(x) = e^x {{https://en.wikipedia.org/wiki/Exponential_function}}\n",
    "    - Run the exp() method, but this method does not belong to A, it belongs to numpy, so the syntax is a little different."
   ]
  },
  {
   "cell_type": "code",
   "execution_count": 16,
   "metadata": {},
   "outputs": [
    {
     "data": {
      "text/plain": [
       "array([[  7.3890561 ,  20.08553692, 148.4131591 ],\n",
       "       [ 54.59815003, 403.42879349, 403.42879349]])"
      ]
     },
     "execution_count": 16,
     "metadata": {},
     "output_type": "execute_result"
    }
   ],
   "source": [
    "np.exp(A)"
   ]
  },
  {
   "cell_type": "markdown",
   "metadata": {},
   "source": [
    "- Similarly, you can take the log of an array with the same syntax.\n",
    "- Note: If there is a 0 in your set, you'll get an error with log because that's imposible, but the rest of the array will still calculate."
   ]
  },
  {
   "cell_type": "code",
   "execution_count": 17,
   "metadata": {},
   "outputs": [
    {
     "data": {
      "text/plain": [
       "array([[0.69314718, 1.09861229, 1.60943791],\n",
       "       [1.38629436, 1.79175947, 1.79175947]])"
      ]
     },
     "execution_count": 17,
     "metadata": {},
     "output_type": "execute_result"
    }
   ],
   "source": [
    "np.log(A)"
   ]
  },
  {
   "cell_type": "markdown",
   "metadata": {},
   "source": [
    "- Similarly, you can do this for any other math functions as well."
   ]
  },
  {
   "cell_type": "code",
   "execution_count": 18,
   "metadata": {},
   "outputs": [
    {
     "data": {
      "text/plain": [
       "array([[ 0.90929743,  0.14112001, -0.95892427],\n",
       "       [-0.7568025 , -0.2794155 , -0.2794155 ]])"
      ]
     },
     "execution_count": 18,
     "metadata": {},
     "output_type": "execute_result"
    }
   ],
   "source": [
    "np.sin(A)"
   ]
  },
  {
   "cell_type": "markdown",
   "metadata": {},
   "source": [
    "## Statistics"
   ]
  },
  {
   "cell_type": "markdown",
   "metadata": {},
   "source": [
    "- Some functions we have for tables related to statistics inlude:\n",
    "    - A.min(axis), A.argmin(axis)\n",
    "    - A.max(axis), A.argmax(axis)\n",
    "    - A.mean(axis)\n",
    "    - A.var(axis)\n",
    "    - A.stdaxis)"
   ]
  },
  {
   "cell_type": "code",
   "execution_count": 19,
   "metadata": {},
   "outputs": [
    {
     "data": {
      "text/plain": [
       "array([[2, 3, 5],\n",
       "       [4, 6, 6]])"
      ]
     },
     "execution_count": 19,
     "metadata": {},
     "output_type": "execute_result"
    }
   ],
   "source": [
    "A"
   ]
  },
  {
   "cell_type": "code",
   "execution_count": 20,
   "metadata": {},
   "outputs": [
    {
     "data": {
      "text/plain": [
       "2"
      ]
     },
     "execution_count": 20,
     "metadata": {},
     "output_type": "execute_result"
    }
   ],
   "source": [
    "A.min()"
   ]
  },
  {
   "cell_type": "code",
   "execution_count": 21,
   "metadata": {},
   "outputs": [
    {
     "data": {
      "text/plain": [
       "4"
      ]
     },
     "execution_count": 21,
     "metadata": {},
     "output_type": "execute_result"
    }
   ],
   "source": [
    "A.argmax()      # This says, \"Which index is the largest value?\""
   ]
  },
  {
   "cell_type": "code",
   "execution_count": 22,
   "metadata": {},
   "outputs": [
    {
     "data": {
      "text/plain": [
       "array([3.33333333, 5.33333333])"
      ]
     },
     "execution_count": 22,
     "metadata": {},
     "output_type": "execute_result"
    }
   ],
   "source": [
    "A.mean(axis=1)"
   ]
  },
  {
   "cell_type": "code",
   "execution_count": 23,
   "metadata": {},
   "outputs": [
    {
     "data": {
      "text/plain": [
       "array([1.55555556, 0.88888889])"
      ]
     },
     "execution_count": 23,
     "metadata": {},
     "output_type": "execute_result"
    }
   ],
   "source": [
    "A.var(axis=1)       # This is for the variance {{https://en.wikipedia.org/wiki/Variance}}"
   ]
  },
  {
   "cell_type": "code",
   "execution_count": 24,
   "metadata": {},
   "outputs": [
    {
     "data": {
      "text/plain": [
       "1.4907119849998596"
      ]
     },
     "execution_count": 24,
     "metadata": {},
     "output_type": "execute_result"
    }
   ],
   "source": [
    "A.std()             # This finds the standard deviation of a set {{https://en.wikipedia.org/wiki/Standard_deviation}}"
   ]
  },
  {
   "cell_type": "markdown",
   "metadata": {},
   "source": [
    "- Of note is the function corrcoef - \"Correlation Coeficient\"\n",
    "    - More can be found here: {{https://en.wikipedia.org/wiki/Pearson_correlation_coefficient}}\n",
    "- This is useful for machine leanring because it helps us find the correlation between different rows and columns."
   ]
  },
  {
   "cell_type": "code",
   "execution_count": 25,
   "metadata": {},
   "outputs": [
    {
     "data": {
      "text/plain": [
       "array([[1.        , 0.75592895],\n",
       "       [0.75592895, 1.        ]])"
      ]
     },
     "execution_count": 25,
     "metadata": {},
     "output_type": "execute_result"
    }
   ],
   "source": [
    "np.corrcoef(A)"
   ]
  },
  {
   "cell_type": "markdown",
   "metadata": {},
   "source": [
    "- What do we do with this?\n",
    "- This method generates a new table of correlation coeficients that tell us the correlation between different lines.\n",
    "- Note that there are 1 1's and the othe numbers are the same as well.\n",
    "np.corrcoef(A) =    [[  ,   L1,   L2]\n",
    "                     [L1,    1, L1L2]\n",
    "                     [L2, L2L1,    1]]\n",
    "    - Some resources to understand this:\n",
    "        {{https://www.youtube.com/watch?v=ugd4k3dC_8Y}}\n",
    "        {{https://youtu.be/RwFiNlL4Q8g?list=PLO_fdPEVlfKqMDNmCFzQISI2H_nJcEDJq&t=513}}\n",
    "        \n",
    "- Of note, we can also only print the specific value of the array we want with [0, 1] for example."
   ]
  },
  {
   "cell_type": "code",
   "execution_count": 26,
   "metadata": {},
   "outputs": [
    {
     "data": {
      "text/plain": [
       "0.7559289460184545"
      ]
     },
     "execution_count": 26,
     "metadata": {},
     "output_type": "execute_result"
    }
   ],
   "source": [
    "np.corrcoef(A)[0, 1]"
   ]
  },
  {
   "cell_type": "markdown",
   "metadata": {},
   "source": [
    "- Another very useful method we use in machine learning is np.unique which helps us find data that is present in an array and how many times that object appears in the data.\n",
    "    - This returns 2 arrays.\n",
    "    - The first is an array (sorted) with only unique elements appearing once. We assign this one to the variable \"values\".\n",
    "    - The second is an array that indicates how many times each element shows up in the data. We assign this one to the variable \"counts\"."
   ]
  },
  {
   "cell_type": "code",
   "execution_count": 27,
   "metadata": {},
   "outputs": [
    {
     "name": "stdout",
     "output_type": "stream",
     "text": [
      "values: [2 3 4 5 6]\n",
      "counts: [1 1 1 1 2]\n"
     ]
    }
   ],
   "source": [
    "values, counts = np.unique(A, return_counts=True)\n",
    "print(f\"values: {values}\")\n",
    "print(f\"counts: {counts}\")"
   ]
  },
  {
   "cell_type": "markdown",
   "metadata": {},
   "source": [
    "- As we saw earlier, we can use argsort on this table go get the index of each value in sorted order.\n",
    "- This allows us to find the indexes of the values in counts from largest to smallest, effectively sorting them."
   ]
  },
  {
   "cell_type": "code",
   "execution_count": 28,
   "metadata": {},
   "outputs": [
    {
     "data": {
      "text/plain": [
       "array([0, 1, 2, 3, 4])"
      ]
     },
     "execution_count": 28,
     "metadata": {},
     "output_type": "execute_result"
    }
   ],
   "source": [
    "counts.argsort()"
   ]
  },
  {
   "cell_type": "code",
   "execution_count": 29,
   "metadata": {},
   "outputs": [
    {
     "name": "stdout",
     "output_type": "stream",
     "text": [
      "A is: [[2 3 5]\n",
      " [4 6 6]]\n",
      "values is: [2 3 4 5 6]\n"
     ]
    },
    {
     "data": {
      "text/plain": [
       "array([2, 3, 4, 5, 6])"
      ]
     },
     "execution_count": 29,
     "metadata": {},
     "output_type": "execute_result"
    }
   ],
   "source": [
    "print(f\"A is: {A}\")\n",
    "print(f\"values is: {values}\")\n",
    "values[counts.argsort()]"
   ]
  },
  {
   "cell_type": "markdown",
   "metadata": {},
   "source": [
    "- Here we can take this concept and display a sorted list of the values in these arrays like this."
   ]
  },
  {
   "cell_type": "code",
   "execution_count": 30,
   "metadata": {},
   "outputs": [
    {
     "name": "stdout",
     "output_type": "stream",
     "text": [
      "value 2 appears 1 times.\n",
      "value 3 appears 1 times.\n",
      "value 4 appears 1 times.\n",
      "value 5 appears 1 times.\n",
      "value 6 appears 2 times.\n"
     ]
    }
   ],
   "source": [
    "for i, j in zip(values[counts.argsort()], counts[counts.argsort()]):\n",
    "    print(f'value {i} appears {j} times.')"
   ]
  },
  {
   "cell_type": "markdown",
   "metadata": {},
   "source": [
    "## NAN Corrections\n",
    "\n",
    "- Sometimes we get data from the real world that is missing data or or has pieces of data that are not neatly configured as we need them.\n",
    "- These can be seen as NAN values or \"Not a number\".\n",
    "- When we have these in our data set, we can delete them or find another way to manage them in the data OR, we can use some specific methods in numpy that are built to work around NaN values."
   ]
  },
  {
   "cell_type": "code",
   "execution_count": 31,
   "metadata": {},
   "outputs": [
    {
     "data": {
      "text/plain": [
       "array([[-0.1657069 ,  0.58098198, -0.79595588, -0.13082515, -0.57211599],\n",
       "       [-0.73131704,  0.18485121, -0.22003161, -0.53161091, -0.90212297],\n",
       "       [-0.37383206,  1.6221193 ,         nan,  0.65048878, -0.48808581],\n",
       "       [ 0.82960262,  0.54680405, -0.08788553,  0.38077557,  2.34141552],\n",
       "       [ 0.54172713, -0.09122517,  0.35512869,         nan, -1.66352157]])"
      ]
     },
     "execution_count": 31,
     "metadata": {},
     "output_type": "execute_result"
    }
   ],
   "source": [
    "np.random.seed(seed=int(time.time()))\n",
    "A = np.random.randn(5, 5)\n",
    "A[4, 3] = np.nan\n",
    "A[2, 2] = np.nan\n",
    "A"
   ]
  },
  {
   "cell_type": "code",
   "execution_count": 32,
   "metadata": {},
   "outputs": [
    {
     "name": "stdout",
     "output_type": "stream",
     "text": [
      "NaN mean: 0.055637316177178646\n",
      "NaN var: 0.7058867633986917\n",
      "NaN std: 0.8401706751599295\n"
     ]
    }
   ],
   "source": [
    "print(f\"NaN mean: {np.nanmean(A)}\")\n",
    "print(f\"NaN var: {np.nanvar(A)}\")\n",
    "print(f\"NaN std: {np.nanstd(A)}\")"
   ]
  },
  {
   "cell_type": "markdown",
   "metadata": {},
   "source": [
    "- Sometimes we'll want to know how many times a NaN is in our data.\n",
    "- We can count them like this.\n",
    "    - We can use isnan() to create a boolean mask.\n",
    "    - With booleans we know that False is 0 and True is 1, so we can just take the sum of this mask and find the total number of Trues therein."
   ]
  },
  {
   "cell_type": "code",
   "execution_count": 33,
   "metadata": {},
   "outputs": [
    {
     "data": {
      "text/plain": [
       "2"
      ]
     },
     "execution_count": 33,
     "metadata": {},
     "output_type": "execute_result"
    }
   ],
   "source": [
    "np.isnan(A).sum()"
   ]
  },
  {
   "cell_type": "markdown",
   "metadata": {},
   "source": [
    "- We can also divide by the total size like shown below to find the percentage of our data that is NaN."
   ]
  },
  {
   "cell_type": "code",
   "execution_count": 34,
   "metadata": {},
   "outputs": [
    {
     "data": {
      "text/plain": [
       "0.08"
      ]
     },
     "execution_count": 34,
     "metadata": {},
     "output_type": "execute_result"
    }
   ],
   "source": [
    "np.isnan(A).sum()/A.size"
   ]
  },
  {
   "cell_type": "markdown",
   "metadata": {},
   "source": [
    "- Now that we have a mask, we can use that to replace all the NaN values with a 0 if we want.\n",
    "- We do this by using out mask and re-inserting it into A with the value of 0."
   ]
  },
  {
   "cell_type": "code",
   "execution_count": 35,
   "metadata": {},
   "outputs": [
    {
     "data": {
      "text/plain": [
       "array([[-0.1657069 ,  0.58098198, -0.79595588, -0.13082515, -0.57211599],\n",
       "       [-0.73131704,  0.18485121, -0.22003161, -0.53161091, -0.90212297],\n",
       "       [-0.37383206,  1.6221193 ,  0.        ,  0.65048878, -0.48808581],\n",
       "       [ 0.82960262,  0.54680405, -0.08788553,  0.38077557,  2.34141552],\n",
       "       [ 0.54172713, -0.09122517,  0.35512869,  0.        , -1.66352157]])"
      ]
     },
     "execution_count": 35,
     "metadata": {},
     "output_type": "execute_result"
    }
   ],
   "source": [
    "A[np.isnan(A)] = 0\n",
    "A"
   ]
  },
  {
   "cell_type": "markdown",
   "metadata": {},
   "source": [
    "## Linear Algebra\n",
    "\n",
    "- Instructor indicated that this part of the video is for people who know a little bit about linear algebra and want to learn how to use numpy for linear algebra, but this is not necessary.\n",
    "- I'm going to skip this section for the notes and leave a time link in case I want to come back in the future.\n",
    "    - Link to tutorial: {{https://youtu.be/RwFiNlL4Q8g?list=PLO_fdPEVlfKqMDNmCFzQISI2H_nJcEDJq&t=1174}}\n",
    "    - Link to NumPy library on Linear Algebra: {{https://docs.scipy.org/doc/numpy-1.13.0/reference/routines.linalg.html}}"
   ]
  },
  {
   "cell_type": "code",
   "execution_count": null,
   "metadata": {},
   "outputs": [],
   "source": []
  }
 ],
 "metadata": {
  "kernelspec": {
   "display_name": "Python 3.10.4 ('env310')",
   "language": "python",
   "name": "python3"
  },
  "language_info": {
   "codemirror_mode": {
    "name": "ipython",
    "version": 3
   },
   "file_extension": ".py",
   "mimetype": "text/x-python",
   "name": "python",
   "nbconvert_exporter": "python",
   "pygments_lexer": "ipython3",
   "version": "3.10.4"
  },
  "orig_nbformat": 4,
  "vscode": {
   "interpreter": {
    "hash": "0e9bbc227910a1aa3069b40d32c46f637c8deb484eb6ca5f19bc7e6ec7812a7d"
   }
  }
 },
 "nbformat": 4,
 "nbformat_minor": 2
}
